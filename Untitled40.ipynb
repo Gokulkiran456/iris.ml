# Import required libraries
import pandas as pd
import numpy as np
import seaborn as sns
import matplotlib.pyplot as plt
from sklearn.datasets import load_iris
from sklearn.model_selection import train_test_split
from sklearn.preprocessing import StandardScaler
from sklearn.linear_model import LogisticRegression
from sklearn.tree import DecisionTreeClassifier
from sklearn.ensemble import RandomForestClassifier
from sklearn.svm import SVC
from sklearn.neighbors import KNeighborsClassifier
from sklearn.metrics import accuracy_score, classification_report, confusion_matrix

# Load the Iris dataset
iris = load_iris()
iris_df = pd.DataFrame(data=iris.data, columns=iris.feature_names)
iris_df['species'] = iris.target
iris_df['species'] = iris_df['species'].apply(lambda x: iris.target_names[x])

# Split the data
X = iris.data
y = iris.target
X_train, X_test, y_train, y_test = train_test_split(X, y, test_size=0.2, random_state=42)

# Standardize the data
scaler = StandardScaler()
X_train = scaler.fit_transform(X_train)
X_test = scaler.transform(X_test)

# 5 Machine Learning Models
# 1. Logistic Regression
lr_model = LogisticRegression()
lr_model.fit(X_train, y_train)
lr_predictions = lr_model.predict(X_test)
print("Logistic Regression Accuracy:", accuracy_score(y_test, lr_predictions))

# 2. Decision Tree
dt_model = DecisionTreeClassifier()
dt_model.fit(X_train, y_train)
dt_predictions = dt_model.predict(X_test)
print("Decision Tree Accuracy:", accuracy_score(y_test, dt_predictions))

# 3. Random Forest
rf_model = RandomForestClassifier()
rf_model.fit(X_train, y_train)
rf_predictions = rf_model.predict(X_test)
print("Random Forest Accuracy:", accuracy_score(y_test, rf_predictions))

# 4. Support Vector Machine (SVM)
svm_model = SVC()
svm_model.fit(X_train, y_train)
svm_predictions = svm_model.predict(X_test)
print("SVM Accuracy:", accuracy_score(y_test, svm_predictions))

# 5. K-Nearest Neighbors (KNN)
knn_model = KNeighborsClassifier()
knn_model.fit(X_train, y_train)
knn_predictions = knn_model.predict(X_test)
print("KNN Accuracy:", accuracy_score(y_test, knn_predictions))

# 5 Visualizations
# 1. Pairplot
sns.pairplot(iris_df, hue='species', markers=["o", "s", "D"])
plt.title("Pairplot of Iris Features")
plt.show()

# 2. Correlation Heatmap
plt.figure(figsize=(10, 7))
sns.heatmap(iris_df.iloc[:, :-1].corr(), annot=True, cmap='coolwarm')
plt.title("Correlation Heatmap")
plt.show()

# 3. Boxplot
plt.figure(figsize=(10, 6))
sns.boxplot(data=iris_df, width=0.5, palette="Set2")
plt.title("Boxplot of Iris Features")
plt.show()

# 4. Histogram
iris_df.iloc[:, :-1].hist(bins=15, figsize=(15, 10), color='teal', edgecolor='black')
plt.suptitle("Histogram of Iris Features")
plt.show()

# 5. Violin Plot
plt.figure(figsize=(10, 6))
sns.violinplot(x='species', y='sepal length (cm)', data=iris_df, palette="muted")
plt.title("Violin Plot of Sepal Length by Species")
plt.show()
